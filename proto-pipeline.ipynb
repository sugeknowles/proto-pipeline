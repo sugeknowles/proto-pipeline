{
 "cells": [
  {
   "cell_type": "markdown",
   "id": "d65e22bb-254b-4748-9e5b-62f2832b5687",
   "metadata": {},
   "source": [
    "# Install KFP and db_types"
   ]
  },
  {
   "cell_type": "code",
   "execution_count": null,
   "id": "1c930060-8079-4626-a955-2e775f586c50",
   "metadata": {},
   "outputs": [],
   "source": [
    "USER_FLAG = \"--user\"\n",
    "!pip3 install {USER_FLAG} kfp==1.8.9 > /dev/null\n",
    "!pip3 install {USER_FLAG} db_dtypes > /dev/null"
   ]
  },
  {
   "cell_type": "markdown",
   "id": "042b482f-9869-455a-9be6-70f6a107889c",
   "metadata": {},
   "source": [
    "# Restart notebook kernel to load new modules"
   ]
  },
  {
   "cell_type": "code",
   "execution_count": null,
   "id": "8cae9c99-beb8-4190-93bd-4368a4fd589b",
   "metadata": {},
   "outputs": [],
   "source": [
    "import os\n",
    "if not os.getenv(\"IS_TESTING\"):\n",
    "    # Automatically restart kernel after installs\n",
    "    import IPython\n",
    "    app = IPython.Application.instance()\n",
    "    app.kernel.do_shutdown(True)"
   ]
  },
  {
   "cell_type": "markdown",
   "id": "5149044d-26c4-4e06-afbb-b821a5c33688",
   "metadata": {},
   "source": [
    "## Validate KFP Installation\n",
    "Wait for restart modal before continuing"
   ]
  },
  {
   "cell_type": "code",
   "execution_count": 1,
   "id": "a09e669a-16d0-47c7-9c66-a7b03dd3b663",
   "metadata": {},
   "outputs": [
    {
     "name": "stdout",
     "output_type": "stream",
     "text": [
      "KFP SDK version: 1.8.9\n"
     ]
    }
   ],
   "source": [
    "!python3 -c \"import kfp; print('KFP SDK version: {}'.format(kfp.__version__))\""
   ]
  },
  {
   "cell_type": "markdown",
   "id": "64943754-f62f-4be3-9792-38fd318c0f3c",
   "metadata": {},
   "source": [
    "# Set environment variables for PROJECT_ID and BUCKET_NAME"
   ]
  },
  {
   "cell_type": "code",
   "execution_count": 2,
   "id": "875d4cd7-c59c-4c35-b67b-a466f85e4c65",
   "metadata": {},
   "outputs": [
    {
     "name": "stdout",
     "output_type": "stream",
     "text": [
      "Project ID: qwiklabs-gcp-00-6a332b3e9684\n",
      "Bucket Name: gs://qwiklabs-gcp-00-6a332b3e9684-bucket\n"
     ]
    }
   ],
   "source": [
    "import os  # Reimport due to kernel restart\n",
    "\n",
    "PROJECT_ID = \"\"\n",
    "# Get your Google Cloud project ID from gcloud\n",
    "if not os.getenv(\"IS_TESTING\"):\n",
    "    shell_output=!gcloud config list --format 'value(core.project)' 2>/dev/null\n",
    "    PROJECT_ID = shell_output[0]\n",
    "    print(f\"Project ID: {PROJECT_ID}\")\n",
    "    \n",
    "BUCKET_NAME=\"gs://\" + PROJECT_ID + \"-bucket\"\n",
    "print(f\"Bucket Name: {BUCKET_NAME}\")"
   ]
  },
  {
   "cell_type": "markdown",
   "id": "13ff6f7f-cff3-4c75-918a-0e970e46ca00",
   "metadata": {},
   "source": [
    "# Set environment variables for PATH, REGION & PIPELINE_ROOT"
   ]
  },
  {
   "cell_type": "code",
   "execution_count": 3,
   "id": "187523da-24e5-44b1-89b3-b9d22e090a3f",
   "metadata": {},
   "outputs": [
    {
     "name": "stdout",
     "output_type": "stream",
     "text": [
      "env: PATH=/usr/local/cuda/bin:/opt/conda/bin:/opt/conda/condabin:/usr/local/bin:/usr/bin:/bin:/usr/local/games:/usr/games:/home/jupyter/.local/bin\n"
     ]
    },
    {
     "data": {
      "text/plain": [
       "'gs://qwiklabs-gcp-00-6a332b3e9684-bucket/pipeline_root/'"
      ]
     },
     "execution_count": 3,
     "metadata": {},
     "output_type": "execute_result"
    }
   ],
   "source": [
    "PATH=%env PATH\n",
    "%env PATH={PATH}:/home/jupyter/.local/bin\n",
    "REGION=\"us-central1\"\n",
    "PIPELINE_ROOT = f\"{BUCKET_NAME}/pipeline_root/\"\n",
    "PIPELINE_ROOT"
   ]
  },
  {
   "cell_type": "markdown",
   "id": "f322e90c-5497-4e56-b667-f18c053d8d36",
   "metadata": {},
   "source": [
    "# LAB BEGINS HERE\n",
    "Import required modules"
   ]
  },
  {
   "cell_type": "code",
   "execution_count": 4,
   "id": "06d571af-f276-4878-bda4-0425ff59fa0e",
   "metadata": {},
   "outputs": [],
   "source": [
    "import matplotlib.pyplot as plt\n",
    "import pandas as pd\n",
    "from kfp.v2 import compiler, dsl\n",
    "from kfp.v2.dsl import pipeline, component, Artifact, Dataset, Input, Metrics, Model, Output, InputPath, OutputPath\n",
    "from google.cloud import aiplatform\n",
    "from google.cloud import aiplatform_v1\n",
    "\n",
    "from datetime import datetime"
   ]
  },
  {
   "cell_type": "markdown",
   "id": "f7b05ce5-0119-4025-9717-e7a852d7b95a",
   "metadata": {},
   "source": [
    "# Pipeline Step 1:  [Component] Load data from BQ\n",
    "- Extracts training data from BQ table referenced as input to component\n",
    "- Loads data into Dataframe\n",
    "- Outputs data from component as CSV data"
   ]
  },
  {
   "cell_type": "code",
   "execution_count": 5,
   "id": "2497743d-f8ab-4d27-95c4-491ceb810857",
   "metadata": {},
   "outputs": [],
   "source": [
    "@component(\n",
    "    packages_to_install=[\"google-cloud-bigquery\", \"pandas\", \"pyarrow\", \"db_dtypes\"],\n",
    "    base_image=\"python:3.9\",\n",
    "    output_component_file=\"create_dataset.yaml\"\n",
    "    )\n",
    "\n",
    "def get_dataframe(\n",
    "    bq_table: str,\n",
    "    output_data_path: OutputPath(\"Dataset\")\n",
    "    ):\n",
    "\n",
    "    from google.cloud import bigquery\n",
    "    import pandas as pd\n",
    "    bq_client = bigquery.Client(project=\"qwiklabs-gcp-00-6a332b3e9684\")\n",
    "\n",
    "\n",
    "    def get_query(bq_input_table: str) -> str:\n",
    "        \"\"\"Generates BQ Query to read data.\n",
    "\n",
    "        Args:\n",
    "        bq_input_table: The full name of the bq input table to be read into\n",
    "        the dataframe (e.g. <project>.<dataset>.<table>)\n",
    "        Returns: A BQ query string.\n",
    "        \"\"\"\n",
    "        return f\"\"\"\n",
    "        SELECT *\n",
    "        FROM `{bq_input_table}`\n",
    "        \"\"\"\n",
    "\n",
    "    def load_bq_data(query: str, client: bigquery.Client) -> pd.DataFrame:\n",
    "        \"\"\"Loads data from bq into a Pandas Dataframe for EDA.\n",
    "        Args:\n",
    "        query: BQ Query to generate data.\n",
    "        client: BQ Client used to execute query.\n",
    "        Returns:\n",
    "        pd.DataFrame: A dataframe with the requested data.\n",
    "        \"\"\"\n",
    "        df = client.query(query).to_dataframe()\n",
    "        return df\n",
    "\n",
    "    dataframe = load_bq_data(get_query(bq_table), bq_client)\n",
    "    dataframe.to_csv(output_data_path)"
   ]
  },
  {
   "cell_type": "code",
   "execution_count": 6,
   "id": "6edac35c-3abe-4068-b0bb-1831d51245f6",
   "metadata": {},
   "outputs": [
    {
     "ename": "Forbidden",
     "evalue": "403 Access Denied: Table qwiklabs-gcp-00-6a332b3e9684:beans.dry_beans_tbl: User does not have permission to query table qwiklabs-gcp-00-6a332b3e9684:beans.dry_beans_tbl, or perhaps it does not exist in location US.\n\nLocation: US\nJob ID: a3ec7498-f8c4-45d7-a2be-1f159f927662\n",
     "output_type": "error",
     "traceback": [
      "\u001b[0;31m---------------------------------------------------------------------------\u001b[0m",
      "\u001b[0;31mForbidden\u001b[0m                                 Traceback (most recent call last)",
      "\u001b[0;32m/tmp/ipykernel_21317/2238268988.py\u001b[0m in \u001b[0;36m<module>\u001b[0;34m\u001b[0m\n\u001b[1;32m     27\u001b[0m     \u001b[0;32mreturn\u001b[0m \u001b[0mdf\u001b[0m\u001b[0;34m\u001b[0m\u001b[0;34m\u001b[0m\u001b[0m\n\u001b[1;32m     28\u001b[0m \u001b[0;34m\u001b[0m\u001b[0m\n\u001b[0;32m---> 29\u001b[0;31m \u001b[0mdataframe\u001b[0m \u001b[0;34m=\u001b[0m \u001b[0mload_bq_data\u001b[0m\u001b[0;34m(\u001b[0m\u001b[0mget_query\u001b[0m\u001b[0;34m(\u001b[0m\u001b[0;34m\"qwiklabs-gcp-00-6a332b3e9684.beans.dry_beans_tbl\"\u001b[0m\u001b[0;34m)\u001b[0m\u001b[0;34m,\u001b[0m \u001b[0mbq_client\u001b[0m\u001b[0;34m)\u001b[0m\u001b[0;34m\u001b[0m\u001b[0;34m\u001b[0m\u001b[0m\n\u001b[0m\u001b[1;32m     30\u001b[0m \u001b[0mdataframe\u001b[0m\u001b[0;34m.\u001b[0m\u001b[0mto_csv\u001b[0m\u001b[0;34m(\u001b[0m\u001b[0moutput_data_path\u001b[0m\u001b[0;34m)\u001b[0m\u001b[0;34m\u001b[0m\u001b[0;34m\u001b[0m\u001b[0m\n",
      "\u001b[0;32m/tmp/ipykernel_21317/2238268988.py\u001b[0m in \u001b[0;36mload_bq_data\u001b[0;34m(query, client)\u001b[0m\n\u001b[1;32m     24\u001b[0m     \u001b[0mpd\u001b[0m\u001b[0;34m.\u001b[0m\u001b[0mDataFrame\u001b[0m\u001b[0;34m:\u001b[0m \u001b[0mA\u001b[0m \u001b[0mdataframe\u001b[0m \u001b[0;32mwith\u001b[0m \u001b[0mthe\u001b[0m \u001b[0mrequested\u001b[0m \u001b[0mdata\u001b[0m\u001b[0;34m.\u001b[0m\u001b[0;34m\u001b[0m\u001b[0;34m\u001b[0m\u001b[0m\n\u001b[1;32m     25\u001b[0m     \"\"\"\n\u001b[0;32m---> 26\u001b[0;31m     \u001b[0mdf\u001b[0m \u001b[0;34m=\u001b[0m \u001b[0mclient\u001b[0m\u001b[0;34m.\u001b[0m\u001b[0mquery\u001b[0m\u001b[0;34m(\u001b[0m\u001b[0mquery\u001b[0m\u001b[0;34m)\u001b[0m\u001b[0;34m.\u001b[0m\u001b[0mto_dataframe\u001b[0m\u001b[0;34m(\u001b[0m\u001b[0;34m)\u001b[0m\u001b[0;34m\u001b[0m\u001b[0;34m\u001b[0m\u001b[0m\n\u001b[0m\u001b[1;32m     27\u001b[0m     \u001b[0;32mreturn\u001b[0m \u001b[0mdf\u001b[0m\u001b[0;34m\u001b[0m\u001b[0;34m\u001b[0m\u001b[0m\n\u001b[1;32m     28\u001b[0m \u001b[0;34m\u001b[0m\u001b[0m\n",
      "\u001b[0;32m/opt/conda/lib/python3.7/site-packages/google/cloud/bigquery/job/query.py\u001b[0m in \u001b[0;36mto_dataframe\u001b[0;34m(self, bqstorage_client, dtypes, progress_bar_type, create_bqstorage_client, date_as_object, max_results, geography_as_object)\u001b[0m\n\u001b[1;32m   1693\u001b[0m                 \u001b[0;34m:\u001b[0m\u001b[0mmod\u001b[0m\u001b[0;34m:\u001b[0m\u001b[0;31m`\u001b[0m\u001b[0mshapely\u001b[0m\u001b[0;31m`\u001b[0m \u001b[0mlibrary\u001b[0m \u001b[0mcannot\u001b[0m \u001b[0mbe\u001b[0m \u001b[0mimported\u001b[0m\u001b[0;34m.\u001b[0m\u001b[0;34m\u001b[0m\u001b[0;34m\u001b[0m\u001b[0m\n\u001b[1;32m   1694\u001b[0m         \"\"\"\n\u001b[0;32m-> 1695\u001b[0;31m         \u001b[0mquery_result\u001b[0m \u001b[0;34m=\u001b[0m \u001b[0mwait_for_query\u001b[0m\u001b[0;34m(\u001b[0m\u001b[0mself\u001b[0m\u001b[0;34m,\u001b[0m \u001b[0mprogress_bar_type\u001b[0m\u001b[0;34m,\u001b[0m \u001b[0mmax_results\u001b[0m\u001b[0;34m=\u001b[0m\u001b[0mmax_results\u001b[0m\u001b[0;34m)\u001b[0m\u001b[0;34m\u001b[0m\u001b[0;34m\u001b[0m\u001b[0m\n\u001b[0m\u001b[1;32m   1696\u001b[0m         return query_result.to_dataframe(\n\u001b[1;32m   1697\u001b[0m             \u001b[0mbqstorage_client\u001b[0m\u001b[0;34m=\u001b[0m\u001b[0mbqstorage_client\u001b[0m\u001b[0;34m,\u001b[0m\u001b[0;34m\u001b[0m\u001b[0;34m\u001b[0m\u001b[0m\n",
      "\u001b[0;32m/opt/conda/lib/python3.7/site-packages/google/cloud/bigquery/_tqdm_helpers.py\u001b[0m in \u001b[0;36mwait_for_query\u001b[0;34m(query_job, progress_bar_type, max_results)\u001b[0m\n\u001b[1;32m     86\u001b[0m     )\n\u001b[1;32m     87\u001b[0m     \u001b[0;32mif\u001b[0m \u001b[0mprogress_bar\u001b[0m \u001b[0;32mis\u001b[0m \u001b[0;32mNone\u001b[0m\u001b[0;34m:\u001b[0m\u001b[0;34m\u001b[0m\u001b[0;34m\u001b[0m\u001b[0m\n\u001b[0;32m---> 88\u001b[0;31m         \u001b[0;32mreturn\u001b[0m \u001b[0mquery_job\u001b[0m\u001b[0;34m.\u001b[0m\u001b[0mresult\u001b[0m\u001b[0;34m(\u001b[0m\u001b[0mmax_results\u001b[0m\u001b[0;34m=\u001b[0m\u001b[0mmax_results\u001b[0m\u001b[0;34m)\u001b[0m\u001b[0;34m\u001b[0m\u001b[0;34m\u001b[0m\u001b[0m\n\u001b[0m\u001b[1;32m     89\u001b[0m \u001b[0;34m\u001b[0m\u001b[0m\n\u001b[1;32m     90\u001b[0m     \u001b[0mi\u001b[0m \u001b[0;34m=\u001b[0m \u001b[0;36m0\u001b[0m\u001b[0;34m\u001b[0m\u001b[0;34m\u001b[0m\u001b[0m\n",
      "\u001b[0;32m/opt/conda/lib/python3.7/site-packages/google/cloud/bigquery/job/query.py\u001b[0m in \u001b[0;36mresult\u001b[0;34m(self, page_size, max_results, retry, timeout, start_index, job_retry)\u001b[0m\n\u001b[1;32m   1497\u001b[0m                 \u001b[0mdo_get_result\u001b[0m \u001b[0;34m=\u001b[0m \u001b[0mjob_retry\u001b[0m\u001b[0;34m(\u001b[0m\u001b[0mdo_get_result\u001b[0m\u001b[0;34m)\u001b[0m\u001b[0;34m\u001b[0m\u001b[0;34m\u001b[0m\u001b[0m\n\u001b[1;32m   1498\u001b[0m \u001b[0;34m\u001b[0m\u001b[0m\n\u001b[0;32m-> 1499\u001b[0;31m             \u001b[0mdo_get_result\u001b[0m\u001b[0;34m(\u001b[0m\u001b[0;34m)\u001b[0m\u001b[0;34m\u001b[0m\u001b[0;34m\u001b[0m\u001b[0m\n\u001b[0m\u001b[1;32m   1500\u001b[0m \u001b[0;34m\u001b[0m\u001b[0m\n\u001b[1;32m   1501\u001b[0m         \u001b[0;32mexcept\u001b[0m \u001b[0mexceptions\u001b[0m\u001b[0;34m.\u001b[0m\u001b[0mGoogleAPICallError\u001b[0m \u001b[0;32mas\u001b[0m \u001b[0mexc\u001b[0m\u001b[0;34m:\u001b[0m\u001b[0;34m\u001b[0m\u001b[0;34m\u001b[0m\u001b[0m\n",
      "\u001b[0;32m/opt/conda/lib/python3.7/site-packages/google/api_core/retry.py\u001b[0m in \u001b[0;36mretry_wrapped_func\u001b[0;34m(*args, **kwargs)\u001b[0m\n\u001b[1;32m    286\u001b[0m                 \u001b[0msleep_generator\u001b[0m\u001b[0;34m,\u001b[0m\u001b[0;34m\u001b[0m\u001b[0;34m\u001b[0m\u001b[0m\n\u001b[1;32m    287\u001b[0m                 \u001b[0mself\u001b[0m\u001b[0;34m.\u001b[0m\u001b[0m_deadline\u001b[0m\u001b[0;34m,\u001b[0m\u001b[0;34m\u001b[0m\u001b[0;34m\u001b[0m\u001b[0m\n\u001b[0;32m--> 288\u001b[0;31m                 \u001b[0mon_error\u001b[0m\u001b[0;34m=\u001b[0m\u001b[0mon_error\u001b[0m\u001b[0;34m,\u001b[0m\u001b[0;34m\u001b[0m\u001b[0;34m\u001b[0m\u001b[0m\n\u001b[0m\u001b[1;32m    289\u001b[0m             )\n\u001b[1;32m    290\u001b[0m \u001b[0;34m\u001b[0m\u001b[0m\n",
      "\u001b[0;32m/opt/conda/lib/python3.7/site-packages/google/api_core/retry.py\u001b[0m in \u001b[0;36mretry_target\u001b[0;34m(target, predicate, sleep_generator, deadline, on_error)\u001b[0m\n\u001b[1;32m    188\u001b[0m     \u001b[0;32mfor\u001b[0m \u001b[0msleep\u001b[0m \u001b[0;32min\u001b[0m \u001b[0msleep_generator\u001b[0m\u001b[0;34m:\u001b[0m\u001b[0;34m\u001b[0m\u001b[0;34m\u001b[0m\u001b[0m\n\u001b[1;32m    189\u001b[0m         \u001b[0;32mtry\u001b[0m\u001b[0;34m:\u001b[0m\u001b[0;34m\u001b[0m\u001b[0;34m\u001b[0m\u001b[0m\n\u001b[0;32m--> 190\u001b[0;31m             \u001b[0;32mreturn\u001b[0m \u001b[0mtarget\u001b[0m\u001b[0;34m(\u001b[0m\u001b[0;34m)\u001b[0m\u001b[0;34m\u001b[0m\u001b[0;34m\u001b[0m\u001b[0m\n\u001b[0m\u001b[1;32m    191\u001b[0m \u001b[0;34m\u001b[0m\u001b[0m\n\u001b[1;32m    192\u001b[0m         \u001b[0;31m# pylint: disable=broad-except\u001b[0m\u001b[0;34m\u001b[0m\u001b[0;34m\u001b[0m\u001b[0;34m\u001b[0m\u001b[0m\n",
      "\u001b[0;32m/opt/conda/lib/python3.7/site-packages/google/cloud/bigquery/job/query.py\u001b[0m in \u001b[0;36mdo_get_result\u001b[0;34m()\u001b[0m\n\u001b[1;32m   1487\u001b[0m                     \u001b[0mself\u001b[0m\u001b[0;34m.\u001b[0m\u001b[0m_job_retry\u001b[0m \u001b[0;34m=\u001b[0m \u001b[0mjob_retry\u001b[0m\u001b[0;34m\u001b[0m\u001b[0;34m\u001b[0m\u001b[0m\n\u001b[1;32m   1488\u001b[0m \u001b[0;34m\u001b[0m\u001b[0m\n\u001b[0;32m-> 1489\u001b[0;31m                 \u001b[0msuper\u001b[0m\u001b[0;34m(\u001b[0m\u001b[0mQueryJob\u001b[0m\u001b[0;34m,\u001b[0m \u001b[0mself\u001b[0m\u001b[0;34m)\u001b[0m\u001b[0;34m.\u001b[0m\u001b[0mresult\u001b[0m\u001b[0;34m(\u001b[0m\u001b[0mretry\u001b[0m\u001b[0;34m=\u001b[0m\u001b[0mretry\u001b[0m\u001b[0;34m,\u001b[0m \u001b[0mtimeout\u001b[0m\u001b[0;34m=\u001b[0m\u001b[0mtimeout\u001b[0m\u001b[0;34m)\u001b[0m\u001b[0;34m\u001b[0m\u001b[0;34m\u001b[0m\u001b[0m\n\u001b[0m\u001b[1;32m   1490\u001b[0m \u001b[0;34m\u001b[0m\u001b[0m\n\u001b[1;32m   1491\u001b[0m                 \u001b[0;31m# Since the job could already be \"done\" (e.g. got a finished job\u001b[0m\u001b[0;34m\u001b[0m\u001b[0;34m\u001b[0m\u001b[0;34m\u001b[0m\u001b[0m\n",
      "\u001b[0;32m/opt/conda/lib/python3.7/site-packages/google/cloud/bigquery/job/base.py\u001b[0m in \u001b[0;36mresult\u001b[0;34m(self, retry, timeout)\u001b[0m\n\u001b[1;32m    726\u001b[0m \u001b[0;34m\u001b[0m\u001b[0m\n\u001b[1;32m    727\u001b[0m         \u001b[0mkwargs\u001b[0m \u001b[0;34m=\u001b[0m \u001b[0;34m{\u001b[0m\u001b[0;34m}\u001b[0m \u001b[0;32mif\u001b[0m \u001b[0mretry\u001b[0m \u001b[0;32mis\u001b[0m \u001b[0mDEFAULT_RETRY\u001b[0m \u001b[0;32melse\u001b[0m \u001b[0;34m{\u001b[0m\u001b[0;34m\"retry\"\u001b[0m\u001b[0;34m:\u001b[0m \u001b[0mretry\u001b[0m\u001b[0;34m}\u001b[0m\u001b[0;34m\u001b[0m\u001b[0;34m\u001b[0m\u001b[0m\n\u001b[0;32m--> 728\u001b[0;31m         \u001b[0;32mreturn\u001b[0m \u001b[0msuper\u001b[0m\u001b[0;34m(\u001b[0m\u001b[0m_AsyncJob\u001b[0m\u001b[0;34m,\u001b[0m \u001b[0mself\u001b[0m\u001b[0;34m)\u001b[0m\u001b[0;34m.\u001b[0m\u001b[0mresult\u001b[0m\u001b[0;34m(\u001b[0m\u001b[0mtimeout\u001b[0m\u001b[0;34m=\u001b[0m\u001b[0mtimeout\u001b[0m\u001b[0;34m,\u001b[0m \u001b[0;34m**\u001b[0m\u001b[0mkwargs\u001b[0m\u001b[0;34m)\u001b[0m\u001b[0;34m\u001b[0m\u001b[0;34m\u001b[0m\u001b[0m\n\u001b[0m\u001b[1;32m    729\u001b[0m \u001b[0;34m\u001b[0m\u001b[0m\n\u001b[1;32m    730\u001b[0m     \u001b[0;32mdef\u001b[0m \u001b[0mcancelled\u001b[0m\u001b[0;34m(\u001b[0m\u001b[0mself\u001b[0m\u001b[0;34m)\u001b[0m\u001b[0;34m:\u001b[0m\u001b[0;34m\u001b[0m\u001b[0;34m\u001b[0m\u001b[0m\n",
      "\u001b[0;32m/opt/conda/lib/python3.7/site-packages/google/api_core/future/polling.py\u001b[0m in \u001b[0;36mresult\u001b[0;34m(self, timeout, retry)\u001b[0m\n\u001b[1;32m    135\u001b[0m             \u001b[0;31m# pylint: disable=raising-bad-type\u001b[0m\u001b[0;34m\u001b[0m\u001b[0;34m\u001b[0m\u001b[0;34m\u001b[0m\u001b[0m\n\u001b[1;32m    136\u001b[0m             \u001b[0;31m# Pylint doesn't recognize that this is valid in this case.\u001b[0m\u001b[0;34m\u001b[0m\u001b[0;34m\u001b[0m\u001b[0;34m\u001b[0m\u001b[0m\n\u001b[0;32m--> 137\u001b[0;31m             \u001b[0;32mraise\u001b[0m \u001b[0mself\u001b[0m\u001b[0;34m.\u001b[0m\u001b[0m_exception\u001b[0m\u001b[0;34m\u001b[0m\u001b[0;34m\u001b[0m\u001b[0m\n\u001b[0m\u001b[1;32m    138\u001b[0m \u001b[0;34m\u001b[0m\u001b[0m\n\u001b[1;32m    139\u001b[0m         \u001b[0;32mreturn\u001b[0m \u001b[0mself\u001b[0m\u001b[0;34m.\u001b[0m\u001b[0m_result\u001b[0m\u001b[0;34m\u001b[0m\u001b[0;34m\u001b[0m\u001b[0m\n",
      "\u001b[0;31mForbidden\u001b[0m: 403 Access Denied: Table qwiklabs-gcp-00-6a332b3e9684:beans.dry_beans_tbl: User does not have permission to query table qwiklabs-gcp-00-6a332b3e9684:beans.dry_beans_tbl, or perhaps it does not exist in location US.\n\nLocation: US\nJob ID: a3ec7498-f8c4-45d7-a2be-1f159f927662\n"
     ]
    }
   ],
   "source": [
    "from google.cloud import bigquery\n",
    "import pandas as pd\n",
    "bq_client = bigquery.Client(project=\"qwiklabs-gcp-00-6a332b3e9684\")\n",
    "\n",
    "\n",
    "def get_query(bq_input_table: str) -> str:\n",
    "    \"\"\"Generates BQ Query to read data.\n",
    "    Args:\n",
    "    bq_input_table: The full name of the bq input table to be read into\n",
    "    the dataframe (e.g. <project>.<dataset>.<table>)\n",
    "    Returns: A BQ query string.\n",
    "    \"\"\"\n",
    "    return f\"\"\"\n",
    "        SELECT *\n",
    "        FROM `{bq_input_table}`\n",
    "        \"\"\"\n",
    "\n",
    "def load_bq_data(query: str, client: bigquery.Client) -> pd.DataFrame:\n",
    "    \"\"\"Loads data from bq into a Pandas Dataframe for EDA.\n",
    "    Args:\n",
    "    query: BQ Query to generate data.\n",
    "    client: BQ Client used to execute query.\n",
    "    Returns:\n",
    "    pd.DataFrame: A dataframe with the requested data.\n",
    "    \"\"\"\n",
    "    df = client.query(query).to_dataframe()\n",
    "    return df\n",
    "\n",
    "dataframe = load_bq_data(get_query(\"qwiklabs-gcp-00-6a332b3e9684.beans.dry_beans_tbl\"), bq_client)\n",
    "dataframe.to_csv(output_data_path)"
   ]
  },
  {
   "cell_type": "markdown",
   "id": "8ad76fec-c872-4381-850d-25fdac8eebb0",
   "metadata": {},
   "source": [
    "# Pipeline Step 2:  [Component] Train Scikit-learn model\n",
    "- Takes CSV data from step 1 as input\n",
    "- Train Scikit-learn decision tree model\n",
    "- Output model"
   ]
  },
  {
   "cell_type": "code",
   "execution_count": 7,
   "id": "e6183165-3abe-4928-8b54-28016f330838",
   "metadata": {},
   "outputs": [],
   "source": [
    "@component(\n",
    "    packages_to_install=[\"sklearn\", \"pandas\", \"joblib\"],\n",
    "    base_image=\"python:3.9\",\n",
    "    output_component_file=\"beans_model_component.yaml\",\n",
    ")\n",
    "def sklearn_train(\n",
    "    dataset: Input[Dataset],\n",
    "    metrics: Output[Metrics],\n",
    "    model: Output[Model]\n",
    "):\n",
    "    from sklearn.tree import DecisionTreeClassifier\n",
    "    from sklearn.metrics import roc_curve\n",
    "    from sklearn.model_selection import train_test_split\n",
    "    from joblib import dump\n",
    "    import pandas as pd\n",
    "    df = pd.read_csv(dataset.path)\n",
    "    labels = df.pop(\"Class\").tolist()\n",
    "    data = df.values.tolist()\n",
    "    x_train, x_test, y_train, y_test = train_test_split(data, labels)\n",
    "    skmodel = DecisionTreeClassifier()\n",
    "    skmodel.fit(x_train,y_train)\n",
    "    score = skmodel.score(x_test,y_test)\n",
    "    print('accuracy is:',score)\n",
    "    metrics.log_metric(\"accuracy\",(score * 100.0))\n",
    "    metrics.log_metric(\"framework\", \"Scikit Learn\")\n",
    "    metrics.log_metric(\"dataset_size\", len(df))\n",
    "    dump(skmodel, model.path + \".joblib\")"
   ]
  },
  {
   "cell_type": "markdown",
   "id": "a7a65c4e-3a22-4c29-849c-dcd9a5890c8d",
   "metadata": {},
   "source": [
    "# Pipeline Step 3:  [Component] Upload & Deploy model to Vertex AI\n",
    "- Takes model from step 2 as input\n",
    "- Upload model to Vertex AI\n",
    "- Deploy model as Vertex AI endpoint"
   ]
  },
  {
   "cell_type": "code",
   "execution_count": 8,
   "id": "39f993c9-dec1-4493-ab91-05ddbb022804",
   "metadata": {},
   "outputs": [],
   "source": [
    "@component(\n",
    "    packages_to_install=[\"google-cloud-aiplatform\"],\n",
    "    base_image=\"python:3.9\",\n",
    "    output_component_file=\"beans_deploy_component.yaml\",\n",
    ")\n",
    "def deploy_model(\n",
    "    model: Input[Model],\n",
    "    project: str,\n",
    "    region: str,\n",
    "    vertex_endpoint: Output[Artifact],\n",
    "    vertex_model: Output[Model]\n",
    "):\n",
    "    from google.cloud import aiplatform\n",
    "    aiplatform.init(project=project, location=region)\n",
    "    deployed_model = aiplatform.Model.upload(\n",
    "        display_name=\"beans-model-pipeline\",\n",
    "        artifact_uri = model.uri.replace(\"model\", \"\"),\n",
    "        serving_container_image_uri=\"us-docker.pkg.dev/vertex-ai/prediction/sklearn-cpu.0-24:latest\"\n",
    "    )\n",
    "    endpoint = deployed_model.deploy(machine_type=\"n1-standard-4\")\n",
    "    # Save data to the output params\n",
    "    vertex_endpoint.uri = endpoint.resource_name\n",
    "    vertex_model.uri = deployed_model.resource_name"
   ]
  },
  {
   "cell_type": "markdown",
   "id": "78976e47-291c-4660-907d-19ff15e42da8",
   "metadata": {},
   "source": [
    "# Pipeline Creation\n",
    "## Define a pipeline from the 3 components"
   ]
  },
  {
   "cell_type": "code",
   "execution_count": 9,
   "id": "d9268c43-0974-43d4-8202-64a62e4462f3",
   "metadata": {},
   "outputs": [],
   "source": [
    "@pipeline(\n",
    "    name=\"mlmd-pipeline\"\n",
    ")\n",
    "def pipeline(\n",
    "    bq_table: str = \"\",\n",
    "    output_data_path: str = \"data.csv\",\n",
    "    project: str = PROJECT_ID,\n",
    "    region: str = REGION\n",
    "):\n",
    "    dataset_task = get_dataframe(bq_table)\n",
    "    model_task = sklearn_train(\n",
    "        dataset_task.output\n",
    "    )\n",
    "    deploy_task = deploy_model(\n",
    "        model=model_task.outputs[\"model\"],\n",
    "        project=project,\n",
    "        region=region\n",
    "    )"
   ]
  },
  {
   "cell_type": "markdown",
   "id": "0195d9da-b44a-4994-9407-6ef290320a10",
   "metadata": {},
   "source": [
    "## Compile pipeline to JSON"
   ]
  },
  {
   "cell_type": "code",
   "execution_count": 10,
   "id": "30c6492e-3bf7-499d-a55f-e25ae537116e",
   "metadata": {},
   "outputs": [
    {
     "name": "stderr",
     "output_type": "stream",
     "text": [
      "/home/jupyter/.local/lib/python3.7/site-packages/kfp/v2/compiler/compiler.py:1266: FutureWarning: APIs imported from the v1 namespace (e.g. kfp.dsl, kfp.components, etc) will not be supported by the v2 compiler since v2.0.0\n",
      "  category=FutureWarning,\n"
     ]
    }
   ],
   "source": [
    "compiler.Compiler().compile(\n",
    "    pipeline_func=pipeline, package_path=\"mlmd_pipeline.json\"\n",
    ")"
   ]
  },
  {
   "cell_type": "markdown",
   "id": "f7ee694b-0a2b-4696-9566-c7c1fb194e2a",
   "metadata": {},
   "source": [
    "# Execute Pipeline Runs"
   ]
  },
  {
   "cell_type": "markdown",
   "id": "b81b3bd1-6157-442f-a3fa-78c5aa693a3b",
   "metadata": {},
   "source": [
    "## Create Pipeline Job 1: Small Dataset Table"
   ]
  },
  {
   "cell_type": "code",
   "execution_count": 11,
   "id": "dbd5fa22-df08-48f9-86b9-18f1f2d824e6",
   "metadata": {},
   "outputs": [],
   "source": [
    "timestamp = datetime.now().strftime(\"%Y%m%d%H%M%S\")\n",
    "run1 = aiplatform.PipelineJob(\n",
    "    display_name=\"mlmd-pipeline\",\n",
    "    template_path=\"mlmd_pipeline.json\",\n",
    "    job_id=\"mlmd-pipeline-small-{0}\".format(timestamp),\n",
    "    parameter_values={\"bq_table\":\"{0}.beans.dry_beans_tbl_small\".format(PROJECT_ID)},\n",
    "    enable_caching=True,\n",
    ")"
   ]
  },
  {
   "cell_type": "markdown",
   "id": "6734541d-34f9-4932-bb23-309b4ee2a059",
   "metadata": {},
   "source": [
    "## Create Pipeline Job 2:  Full Dataset Table"
   ]
  },
  {
   "cell_type": "code",
   "execution_count": 12,
   "id": "826ad9ed-3006-44b5-a7e8-ed6f555fec21",
   "metadata": {},
   "outputs": [],
   "source": [
    "timestamp = datetime.now().strftime(\"%Y%m%d%H%M%S\")\n",
    "run2 = aiplatform.PipelineJob(\n",
    "    display_name=\"mlmd-pipeline\",\n",
    "    template_path=\"mlmd_pipeline.json\",\n",
    "    job_id=\"mlmd-pipeline-large-{0}\".format(timestamp),\n",
    "    parameter_values={\"bq_table\":\"{0}.beans.dry_beans_tbl\".format(PROJECT_ID)},\n",
    "    enable_caching=True,\n",
    ")"
   ]
  },
  {
   "cell_type": "markdown",
   "id": "6990cf78-37d0-4922-be24-e087e470d23c",
   "metadata": {},
   "source": [
    "## Execute Jobs"
   ]
  },
  {
   "cell_type": "code",
   "execution_count": 13,
   "id": "39fca55f-c90e-4fed-8713-0b4cbb15deb2",
   "metadata": {},
   "outputs": [
    {
     "name": "stdout",
     "output_type": "stream",
     "text": [
      "Creating PipelineJob\n",
      "PipelineJob created. Resource name: projects/670026345621/locations/us-central1/pipelineJobs/mlmd-pipeline-small-20221007143057\n",
      "To use this PipelineJob in another session:\n",
      "pipeline_job = aiplatform.PipelineJob.get('projects/670026345621/locations/us-central1/pipelineJobs/mlmd-pipeline-small-20221007143057')\n",
      "View Pipeline Job:\n",
      "https://console.cloud.google.com/vertex-ai/locations/us-central1/pipelines/runs/mlmd-pipeline-small-20221007143057?project=670026345621\n"
     ]
    }
   ],
   "source": [
    "run1.submit(service_account = f\"mlops-svc@{PROJECT_ID}.iam.gserviceaccount.com\")"
   ]
  },
  {
   "cell_type": "code",
   "execution_count": 14,
   "id": "2a271c35-8698-43bd-836c-4719481b62f7",
   "metadata": {},
   "outputs": [
    {
     "name": "stdout",
     "output_type": "stream",
     "text": [
      "Creating PipelineJob\n",
      "PipelineJob created. Resource name: projects/670026345621/locations/us-central1/pipelineJobs/mlmd-pipeline-large-20221007143058\n",
      "To use this PipelineJob in another session:\n",
      "pipeline_job = aiplatform.PipelineJob.get('projects/670026345621/locations/us-central1/pipelineJobs/mlmd-pipeline-large-20221007143058')\n",
      "View Pipeline Job:\n",
      "https://console.cloud.google.com/vertex-ai/locations/us-central1/pipelines/runs/mlmd-pipeline-large-20221007143058?project=670026345621\n"
     ]
    }
   ],
   "source": [
    "run2.submit(service_account = f\"mlops-svc@{PROJECT_ID}.iam.gserviceaccount.com\")"
   ]
  },
  {
   "cell_type": "markdown",
   "id": "80da1518-e77e-419c-ab69-36fb2f6f3a88",
   "metadata": {},
   "source": [
    "# Comparing pipeline runs with the Vertex AI SDK"
   ]
  },
  {
   "cell_type": "code",
   "execution_count": 16,
   "id": "1ef5077c-accc-4279-9466-226413c0d4ac",
   "metadata": {},
   "outputs": [
    {
     "data": {
      "text/html": [
       "<div>\n",
       "<style scoped>\n",
       "    .dataframe tbody tr th:only-of-type {\n",
       "        vertical-align: middle;\n",
       "    }\n",
       "\n",
       "    .dataframe tbody tr th {\n",
       "        vertical-align: top;\n",
       "    }\n",
       "\n",
       "    .dataframe thead th {\n",
       "        text-align: right;\n",
       "    }\n",
       "</style>\n",
       "<table border=\"1\" class=\"dataframe\">\n",
       "  <thead>\n",
       "    <tr style=\"text-align: right;\">\n",
       "      <th></th>\n",
       "      <th>pipeline_name</th>\n",
       "      <th>run_name</th>\n",
       "      <th>param.input:region</th>\n",
       "      <th>param.input:bq_table</th>\n",
       "      <th>param.input:project</th>\n",
       "      <th>param.input:output_data_path</th>\n",
       "    </tr>\n",
       "  </thead>\n",
       "  <tbody>\n",
       "    <tr>\n",
       "      <th>0</th>\n",
       "      <td>mlmd-pipeline</td>\n",
       "      <td>mlmd-pipeline-large-20221007143058</td>\n",
       "      <td>us-central1</td>\n",
       "      <td>qwiklabs-gcp-00-6a332b3e9684.beans.dry_beans_tbl</td>\n",
       "      <td>qwiklabs-gcp-00-6a332b3e9684</td>\n",
       "      <td>data.csv</td>\n",
       "    </tr>\n",
       "    <tr>\n",
       "      <th>1</th>\n",
       "      <td>mlmd-pipeline</td>\n",
       "      <td>mlmd-pipeline-small-20221007143057</td>\n",
       "      <td>us-central1</td>\n",
       "      <td>qwiklabs-gcp-00-6a332b3e9684.beans.dry_beans_t...</td>\n",
       "      <td>qwiklabs-gcp-00-6a332b3e9684</td>\n",
       "      <td>data.csv</td>\n",
       "    </tr>\n",
       "    <tr>\n",
       "      <th>2</th>\n",
       "      <td>mlmd-pipeline</td>\n",
       "      <td>mlmd-pipeline-small-20221007135654</td>\n",
       "      <td>us-central1</td>\n",
       "      <td>qwiklabs-gcp-00-6a332b3e9684.beans.dry_beans_t...</td>\n",
       "      <td>qwiklabs-gcp-00-6a332b3e9684</td>\n",
       "      <td>data.csv</td>\n",
       "    </tr>\n",
       "    <tr>\n",
       "      <th>3</th>\n",
       "      <td>mlmd-pipeline</td>\n",
       "      <td>mlmd-pipeline-small-20221007134812</td>\n",
       "      <td>us-central1</td>\n",
       "      <td>qwiklabs-gcp-00-6a332b3e9684.beans.dry_beans_t...</td>\n",
       "      <td>qwiklabs-gcp-00-6a332b3e9684</td>\n",
       "      <td>data.csv</td>\n",
       "    </tr>\n",
       "    <tr>\n",
       "      <th>4</th>\n",
       "      <td>mlmd-pipeline</td>\n",
       "      <td>mlmd-pipeline-small-20221007134040</td>\n",
       "      <td>us-central1</td>\n",
       "      <td>qwiklabs-gcp-00-6a332b3e9684.beans.dry_beans_t...</td>\n",
       "      <td>qwiklabs-gcp-00-6a332b3e9684</td>\n",
       "      <td>data.csv</td>\n",
       "    </tr>\n",
       "    <tr>\n",
       "      <th>5</th>\n",
       "      <td>mlmd-pipeline</td>\n",
       "      <td>mlmd-pipeline-small-20221007133345</td>\n",
       "      <td>us-central1</td>\n",
       "      <td>qwiklabs-gcp-00-6a332b3e9684.beans.dry_bean_tb...</td>\n",
       "      <td>qwiklabs-gcp-00-6a332b3e9684</td>\n",
       "      <td>data.csv</td>\n",
       "    </tr>\n",
       "  </tbody>\n",
       "</table>\n",
       "</div>"
      ],
      "text/plain": [
       "   pipeline_name                            run_name param.input:region  \\\n",
       "0  mlmd-pipeline  mlmd-pipeline-large-20221007143058        us-central1   \n",
       "1  mlmd-pipeline  mlmd-pipeline-small-20221007143057        us-central1   \n",
       "2  mlmd-pipeline  mlmd-pipeline-small-20221007135654        us-central1   \n",
       "3  mlmd-pipeline  mlmd-pipeline-small-20221007134812        us-central1   \n",
       "4  mlmd-pipeline  mlmd-pipeline-small-20221007134040        us-central1   \n",
       "5  mlmd-pipeline  mlmd-pipeline-small-20221007133345        us-central1   \n",
       "\n",
       "                                param.input:bq_table  \\\n",
       "0   qwiklabs-gcp-00-6a332b3e9684.beans.dry_beans_tbl   \n",
       "1  qwiklabs-gcp-00-6a332b3e9684.beans.dry_beans_t...   \n",
       "2  qwiklabs-gcp-00-6a332b3e9684.beans.dry_beans_t...   \n",
       "3  qwiklabs-gcp-00-6a332b3e9684.beans.dry_beans_t...   \n",
       "4  qwiklabs-gcp-00-6a332b3e9684.beans.dry_beans_t...   \n",
       "5  qwiklabs-gcp-00-6a332b3e9684.beans.dry_bean_tb...   \n",
       "\n",
       "            param.input:project param.input:output_data_path  \n",
       "0  qwiklabs-gcp-00-6a332b3e9684                     data.csv  \n",
       "1  qwiklabs-gcp-00-6a332b3e9684                     data.csv  \n",
       "2  qwiklabs-gcp-00-6a332b3e9684                     data.csv  \n",
       "3  qwiklabs-gcp-00-6a332b3e9684                     data.csv  \n",
       "4  qwiklabs-gcp-00-6a332b3e9684                     data.csv  \n",
       "5  qwiklabs-gcp-00-6a332b3e9684                     data.csv  "
      ]
     },
     "execution_count": 16,
     "metadata": {},
     "output_type": "execute_result"
    }
   ],
   "source": [
    "df = aiplatform.get_pipeline_df(pipeline=\"mlmd-pipeline\")\n",
    "df"
   ]
  },
  {
   "cell_type": "code",
   "execution_count": null,
   "id": "a1329115-bd6e-46c8-80af-1876e0b1b162",
   "metadata": {},
   "outputs": [],
   "source": [
    "plt.plot(df[\"metric.dataset_size\"], df[\"metric.accuracy\"],label=\"Accuracy\")\n",
    "plt.title(\"Accuracy and dataset size\")\n",
    "plt.legend(loc=4)\n",
    "plt.show()"
   ]
  },
  {
   "cell_type": "markdown",
   "id": "a435d908-6c73-4398-8078-198e5ed03143",
   "metadata": {},
   "source": [
    "## Querying Pipeline Metrics\n",
    "Getting all Model artifacts"
   ]
  },
  {
   "cell_type": "code",
   "execution_count": null,
   "id": "7aa77f3f-6e11-4b2d-85c8-82d9c2ed1b4c",
   "metadata": {},
   "outputs": [],
   "source": [
    "API_ENDPOINT = \"{}-aiplatform.googleapis.com\".format(REGION)\n",
    "metadata_client = aiplatform_v1.MetadataServiceClient(\n",
    "  client_options={\n",
    "      \"api_endpoint\": API_ENDPOINT\n",
    "  }\n",
    ")"
   ]
  },
  {
   "cell_type": "code",
   "execution_count": null,
   "id": "07a38a84-6221-4ec9-8351-24ac936474e0",
   "metadata": {},
   "outputs": [],
   "source": [
    "MODEL_FILTER=\"schema_title = \\\"system.Model\\\"\"\n",
    "artifact_request = aiplatform_v1.ListArtifactsRequest(\n",
    "    parent=\"projects/{0}/locations/{1}/metadataStores/default\".format(PROJECT_ID, REGION),\n",
    "    filter=MODEL_FILTER\n",
    ")\n",
    "model_artifacts = metadata_client.list_artifacts(artifact_request)"
   ]
  },
  {
   "cell_type": "markdown",
   "id": "301734ad-babe-4056-b46b-4307622df519",
   "metadata": {},
   "source": [
    "## Filtering objects and displaying in a Dataframe"
   ]
  },
  {
   "cell_type": "code",
   "execution_count": null,
   "id": "0d5f89ed-078f-467e-9a72-5d53091cf8cb",
   "metadata": {},
   "outputs": [],
   "source": [
    "LIVE_FILTER = \"create_time > \\\"2021-08-10T00:00:00-00:00\\\" AND state = LIVE\"\n",
    "artifact_req = {\n",
    "    \"parent\": \"projects/{0}/locations/{1}/metadataStores/default\".format(PROJECT_ID, REGION),\n",
    "    \"filter\": LIVE_FILTER\n",
    "}\n",
    "live_artifacts = metadata_client.list_artifacts(artifact_req)\n",
    "\n",
    "# Display data in Dataframe\n",
    "data = {'uri': [], 'createTime': [], 'type': []}\n",
    "for i in live_artifacts:\n",
    "    data['uri'].append(i.uri)\n",
    "    data['createTime'].append(i.create_time)\n",
    "    data['type'].append(i.schema_title)\n",
    "df = pd.DataFrame.from_dict(data)\n",
    "df"
   ]
  }
 ],
 "metadata": {
  "environment": {
   "kernel": "python3",
   "name": "tf2-gpu.2-3.m97",
   "type": "gcloud",
   "uri": "gcr.io/deeplearning-platform-release/tf2-gpu.2-3:m97"
  },
  "kernelspec": {
   "display_name": "Python 3",
   "language": "python",
   "name": "python3"
  },
  "language_info": {
   "codemirror_mode": {
    "name": "ipython",
    "version": 3
   },
   "file_extension": ".py",
   "mimetype": "text/x-python",
   "name": "python",
   "nbconvert_exporter": "python",
   "pygments_lexer": "ipython3",
   "version": "3.7.12"
  }
 },
 "nbformat": 4,
 "nbformat_minor": 5
}
